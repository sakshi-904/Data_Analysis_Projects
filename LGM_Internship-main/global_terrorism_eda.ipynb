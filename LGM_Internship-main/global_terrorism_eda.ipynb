{
 "cells": [
  {
   "cell_type": "markdown",
   "metadata": {},
   "source": [
    "***Lets Grow More***\n",
    "\n",
    "**2)Intermediate level task:\n",
    " Sub task 01)**"
   ]
  },
  {
   "cell_type": "markdown",
   "metadata": {},
   "source": [
    "**Title:** Exploratory Data Analysis on Dataset - Terrorism \n",
    "\n",
    "\n"
   ]
  },
  {
   "cell_type": "markdown",
   "metadata": {},
   "source": [
    "**Introduction:**\n",
    "As a security/defense analyst, try to find out the hot zone of terrorism. Here, we will apply an exploratory data analysis, look for patterns and explanations related to the context and present the conclusions in a dynamic and visual ways. \n",
    "\n",
    "We will use libs like **Folium**, **Seaborn**, **Matplotlib** and other usefull tools to try to see:"
   ]
  },
  {
   "cell_type": "code",
   "execution_count": null,
   "metadata": {
    "ExecuteTime": {
     "end_time": "2019-07-09T23:35:22.734972Z",
     "start_time": "2019-07-09T23:35:22.715585Z"
    },
    "_kg_hide-input": false
   },
   "outputs": [],
   "source": [
    "#importing required libraries\n",
    "import numpy as np\n",
    "import pandas as pd\n",
    "import folium \n",
    "from folium.plugins import FastMarkerCluster, Fullscreen, MiniMap, HeatMap, HeatMapWithTime\n",
    "from branca.colormap import LinearColormap\n",
    "import os\n",
    "import json\n",
    "import matplotlib.pyplot as plt\n",
    "%matplotlib inline\n",
    "import seaborn as sns\n",
    "sns.set_style('darkgrid')\n",
    "import re\n",
    "import warnings\n",
    "warnings.filterwarnings('ignore')"
   ]
  },
  {
   "cell_type": "code",
   "execution_count": null,
   "metadata": {},
   "outputs": [],
   "source": [
    "data=pd.read_csv('globalterrorismdb_0718dist.csv')\n"
   ]
  },
  {
   "cell_type": "code",
   "execution_count": null,
   "metadata": {},
   "outputs": [],
   "source": [
    "#Making copies of dataset for further use\n",
    "data_ter=data.copy()#for plots\n",
    "data_map=data.copy()#for maps"
   ]
  },
  {
   "cell_type": "code",
   "execution_count": null,
   "metadata": {},
   "outputs": [],
   "source": [
    "data.head(2)"
   ]
  },
  {
   "cell_type": "code",
   "execution_count": null,
   "metadata": {},
   "outputs": [],
   "source": [
    "data.tail(2)"
   ]
  },
  {
   "cell_type": "code",
   "execution_count": null,
   "metadata": {},
   "outputs": [],
   "source": [
    "# Columns in the dataframe\n",
    "data.columns"
   ]
  },
  {
   "cell_type": "code",
   "execution_count": null,
   "metadata": {},
   "outputs": [],
   "source": [
    "# Selecting Wanted columns\n",
    "usecols = [1, 5, 8, 10, 11, 12, 13, 14, 25, 26, 27, 29, 35, 58, 69, 71, 82, 98, 100, 101, 103, 104, 106]\n",
    "renamecols = {\n",
    "    'latitude': 'lat',\n",
    "    'longitude': 'lon',\n",
    "    'iyear': u'year',\n",
    "    'country_txt': u'country',\n",
    "    'region_txt': u'region',\n",
    "    'provstate': u'state',\n",
    "    'attacktype1_txt': u'attacktype',\n",
    "    'targtype1_txt': u'targettype',\n",
    "    'weaptype1_txt': u'weapontype',\n",
    "    'nperps': u'nter',\n",
    "    'nkill': u'nkilled',\n",
    "    'nkillter': u'nkilledter',\n",
    "    'nwound': u'nwounded',\n",
    "    'nwoundte': u'nwoundedter',\n",
    "    'propextent_txt': u'propertyextent'\n",
    "}"
   ]
  },
  {
   "cell_type": "code",
   "execution_count": null,
   "metadata": {},
   "outputs": [],
   "source": [
    "data.rename(columns=renamecols, inplace=True)"
   ]
  },
  {
   "cell_type": "code",
   "execution_count": null,
   "metadata": {},
   "outputs": [],
   "source": [
    "# Removing unknown values in the coordinates\n",
    "data = data[pd.notnull(data.lat)]\n",
    "data = data[pd.notnull(data.lon)]\n",
    "print(\"Unknown values in the coordinates are removed succcessfully\")"
   ]
  },
  {
   "cell_type": "code",
   "execution_count": null,
   "metadata": {},
   "outputs": [],
   "source": [
    "# Unknowns in numeric columns\n",
    "exclude_cols = ['year', 'lat', 'lon']\n",
    "float_cols = [c for c in data.select_dtypes(include=[float]).columns.tolist() if c not in exclude_cols]"
   ]
  },
  {
   "cell_type": "code",
   "execution_count": null,
   "metadata": {},
   "outputs": [],
   "source": [
    "data[float_cols] = data[float_cols].fillna(0).astype(int)\n",
    "data[float_cols] = data[float_cols].mask(data[float_cols] < 0, 0)"
   ]
  },
  {
   "cell_type": "code",
   "execution_count": null,
   "metadata": {},
   "outputs": [],
   "source": [
    "# Limit Long strings\n",
    "data['weapontype'] = data['weapontype'].replace(u'Vehicle (not to include vehicle-borne explosives, i.e., car or truck bombs)', 'Vehicle')\n",
    "data['propertyextent'] = data['propertyextent'].replace(u'Minor (likely < $1 million)', u'Minor (< $1 million)')\n",
    "data['propertyextent'] = data['propertyextent'].replace(u'Major (likely > $1 million but < $1 billion)', u'Major (< $1 billion)')\n",
    "data['propertyextent'] = data['propertyextent'].replace(u'Catastrophic (likely > $1 billion)', u'Catastrophic (> $1 billion)')"
   ]
  },
  {
   "cell_type": "code",
   "execution_count": null,
   "metadata": {},
   "outputs": [],
   "source": [
    "# Number of duplicates values\n",
    "data.duplicated().sum()"
   ]
  },
  {
   "cell_type": "code",
   "execution_count": null,
   "metadata": {},
   "outputs": [],
   "source": [
    "# Datatypes in the Dataframe\n",
    "data.dtypes"
   ]
  },
  {
   "cell_type": "code",
   "execution_count": null,
   "metadata": {},
   "outputs": [],
   "source": [
    "# Summary of Dataset\n",
    "data.info()"
   ]
  },
  {
   "cell_type": "code",
   "execution_count": null,
   "metadata": {},
   "outputs": [],
   "source": [
    "# Count of Values in each column of DataFrame\n",
    "data.nunique()"
   ]
  },
  {
   "cell_type": "code",
   "execution_count": null,
   "metadata": {},
   "outputs": [],
   "source": [
    "# Years in the DataFrame\n",
    "data[\"year\"].unique()"
   ]
  },
  {
   "cell_type": "code",
   "execution_count": null,
   "metadata": {},
   "outputs": [],
   "source": [
    "# Count of each year in the Data Frame\n",
    "data[\"year\"].value_counts()"
   ]
  },
  {
   "cell_type": "code",
   "execution_count": null,
   "metadata": {},
   "outputs": [],
   "source": [
    "# regions in the DataFrame\n",
    "data['region']"
   ]
  },
  {
   "cell_type": "code",
   "execution_count": null,
   "metadata": {},
   "outputs": [],
   "source": [
    "# Total count of gname in the DataFrame\n",
    "data['gname'].value_counts()"
   ]
  },
  {
   "cell_type": "code",
   "execution_count": null,
   "metadata": {},
   "outputs": [],
   "source": [
    "# Total count of cities in the DataFrame\n",
    "data['city'].value_counts()"
   ]
  },
  {
   "cell_type": "code",
   "execution_count": null,
   "metadata": {},
   "outputs": [],
   "source": [
    "# Total count of Attack type in the DataFrame\n",
    "data['attacktype'].value_counts()"
   ]
  },
  {
   "cell_type": "code",
   "execution_count": null,
   "metadata": {},
   "outputs": [],
   "source": [
    "# Total count of Target type in the DataFrame\n",
    "data['targettype'].value_counts()"
   ]
  },
  {
   "cell_type": "code",
   "execution_count": null,
   "metadata": {},
   "outputs": [],
   "source": [
    "# Stastical Summary of Data\n",
    "data.describe()"
   ]
  },
  {
   "cell_type": "markdown",
   "metadata": {},
   "source": [
    "# Countries and Terrorism"
   ]
  },
  {
   "cell_type": "markdown",
   "metadata": {},
   "source": [
    "Let's change the scenery and see the effects of terrorism in specific countries. First of all, let's take a look at the main countries affected by terrorism."
   ]
  },
  {
   "cell_type": "markdown",
   "metadata": {},
   "source": [
    "For plots we are using copy of original dataset i.e data_ter"
   ]
  },
  {
   "cell_type": "code",
   "execution_count": null,
   "metadata": {},
   "outputs": [],
   "source": [
    "data_ter.head()"
   ]
  },
  {
   "cell_type": "code",
   "execution_count": null,
   "metadata": {},
   "outputs": [],
   "source": [
    "data_ter.columns"
   ]
  },
  {
   "cell_type": "code",
   "execution_count": null,
   "metadata": {},
   "outputs": [],
   "source": [
    "# Renameing Wanted columns\n",
    "data_ter.rename(columns = {\n",
    "    'latitude': 'lat',\n",
    "    'longitude': 'lon',\n",
    "    'iyear': 'year',\n",
    "    'country_txt': 'country',\n",
    "    'provstate': 'state',\n",
    "    'attacktype1_txt': 'attacktype',\n",
    "    'targtype1_txt': 'targettype',\n",
    "    'weaptype1_txt': 'weapontype',\n",
    "    'nperps': 'nter',\n",
    "    'nkill': 'nkilled',\n",
    "    'nkillter': 'nkilledter',\n",
    "    'nwound': 'nwounded',\n",
    "    'nwoundte': 'nwoundedter',\n",
    "    'propextent_txt': 'propertyextent'\n",
    "},inplace=True)"
   ]
  },
  {
   "cell_type": "code",
   "execution_count": null,
   "metadata": {},
   "outputs": [],
   "source": [
    "# Terrorist Attack Year VS Region\n",
    "df_region=pd.crosstab(data_ter.year,data_ter.region_txt)\n",
    "df_region.plot(color=sns.color_palette('Set2',12))\n",
    "fig=plt.gcf()\n",
    "plt.title(\"Terrorist Attack Year VS Region\", fontsize=20)\n",
    "fig.set_size_inches(15,8)\n",
    "plt.show()"
   ]
  },
  {
   "cell_type": "code",
   "execution_count": null,
   "metadata": {},
   "outputs": [],
   "source": [
    "# Terrorist Attack Year VS Target Type\n",
    "df_region=pd.crosstab(data_ter.year,data_ter.targettype)\n",
    "df_region.plot(color=sns.color_palette('Set2',12))\n",
    "fig=plt.gcf()\n",
    "plt.title(\"Terrorist Attack Year VS Target Type\", fontsize=20)\n",
    "fig.set_size_inches(15,8)\n",
    "plt.show()"
   ]
  },
  {
   "cell_type": "code",
   "execution_count": null,
   "metadata": {},
   "outputs": [],
   "source": [
    "# Wounded VS Year\n",
    "d=data_ter.groupby(['year','region_txt'])['nwounded'].sum()\n",
    "plot_df_terrorism = d.unstack('region_txt').loc[:]\n",
    "plot_df_terrorism.index = pd.PeriodIndex(plot_df_terrorism.index.tolist(),freq='A')\n",
    "plot_df_terrorism.plot(figsize=(15,8),color=sns.color_palette('Set2',12))\n",
    "plt.title(\"Wounded Vs Year\", fontsize=20)\n",
    "plt.xlabel(\"Year\")\n",
    "plt.ylabel(\"Wounded\")"
   ]
  },
  {
   "cell_type": "markdown",
   "metadata": {},
   "source": [
    "As we have already seen in our first geographical plot, the highest concentration of incidentes recorded are from Middle East & North Africa. The region represents 27.8% of all records between 1970 and 2017. \n",
    "\n",
    "In the next plot, we will make a comparison of this historical data with 2017 data, but this time looking at the top 10 countries if highest nuber of terrorist incidents."
   ]
  },
  {
   "cell_type": "code",
   "execution_count": null,
   "metadata": {},
   "outputs": [],
   "source": [
    "\n",
    "def format_spines(ax, right_border=True):\n",
    "    ax.spines['bottom'].set_color('#CCCCCC')\n",
    "    ax.spines['left'].set_color('#CCCCCC')\n",
    "    ax.spines['top'].set_visible(False)\n",
    "    if right_border:\n",
    "        ax.spines['right'].set_color('#CCCCCC')\n",
    "    else:\n",
    "        ax.spines['right'].set_color('#FFFFFF')\n",
    "    ax.patch.set_facecolor('#FFFFFF')\n",
    "    \n",
    "def count_plot(feature, df, colors='Blues_d', hue=False, ax=None, title=''):\n",
    "    ncount = len(df)\n",
    "    if hue != False:\n",
    "        ax = sns.countplot(x=feature, data=df, palette=colors, hue=hue, ax=ax, \n",
    "                           order=df[feature].value_counts().index)\n",
    "    else:\n",
    "        ax = sns.countplot(x=feature, data=df, palette=colors, ax=ax,\n",
    "                           order=df[feature].value_counts().index)\n",
    "\n",
    "    \n",
    "    ax2=ax.twinx()\n",
    "\n",
    "    \n",
    "    ax2.yaxis.tick_left()\n",
    "    ax.yaxis.tick_right()\n",
    "\n",
    "    \n",
    "    ax.yaxis.set_label_position('right')\n",
    "    ax2.yaxis.set_label_position('left')\n",
    "    ax2.set_ylabel('Frequency [%]')\n",
    "    frame1 = plt.gca()\n",
    "    frame1.axes.get_yaxis().set_ticks([])\n",
    "\n",
    "    \n",
    "    format_spines(ax)\n",
    "    format_spines(ax2)\n",
    "\n",
    "    \n",
    "    for p in ax.patches:\n",
    "        x=p.get_bbox().get_points()[:,0]\n",
    "        y=p.get_bbox().get_points()[1,1]\n",
    "        ax.annotate('{:.1f}%'.format(100.*y/ncount), (x.mean(), y), \n",
    "                ha='center', va='bottom') \n",
    "    \n",
    "    \n",
    "    if not hue:\n",
    "        ax.set_title(df[feature].describe().name + ' Counting plot', size=13, pad=15)\n",
    "    else:\n",
    "        ax.set_title(df[feature].describe().name + ' Counting plot by ' + hue, size=13, pad=15)  \n",
    "    if title != '':\n",
    "        ax.set_title(title)       \n",
    "    plt.tight_layout()\n",
    "    \n",
    "def country_analysis(country_name, data, palette, colors_plot2, color_lineplot):\n",
    "    \n",
    "    country = data.query('country_txt == @country_name')\n",
    "    if len(country) == 0:\n",
    "        print('Country did not exists in dataset')\n",
    "        return \n",
    "    country_cities = country.groupby(by='city', as_index=False).count().sort_values('eventid', ascending=False).iloc[:5, :2]\n",
    "    suicide_size = country['suicide'].sum() / len(country)\n",
    "    labels = ['Suicide', 'Not Suicide']\n",
    "    colors = colors_plot2\n",
    "    country_year = country.groupby(by='iyear', as_index=False).sum().loc[:, ['iyear', 'nkill']]\n",
    "    country_weapon = country.groupby(by='weaptype1_txt', as_index=False).count().sort_values(by='eventid',ascending=False).iloc[:,:2]\n",
    "    # Dashboard\n",
    "    fig, axs = plt.subplots(nrows=2, ncols=2, figsize=(15, 10))\n",
    "    \n",
    "    # Plot 1 - Top 5 terrorism cities\n",
    "    sns.barplot(x='eventid', y='city', data=country_cities, ci=None, palette=palette, ax=axs[0, 0])\n",
    "    format_spines(axs[0, 0], right_border=False)\n",
    "    axs[0, 0].set_title(f'Top 5 {country_name} Cities With Most Terrorism Occurences')\n",
    "    \"\"\"for p in axs[0, 0].patches:\n",
    "        width = p.get_width()\n",
    "        axs[0, 0].text(width-290, p.get_y() + p.get_height() / 2. + 0.10, '{}'.format(int(width)), \n",
    "                ha=\"center\", color='white')\"\"\"\n",
    "    axs[0, 0].set_ylabel('City')\n",
    "    axs[0, 0].set_xlabel('Victims')\n",
    "    \n",
    "    # Plot 2 - Suicide Rate\n",
    "    center_circle = plt.Circle((0,0), 0.75, color='white')\n",
    "    axs[0, 1].pie((suicide_size, 1-suicide_size), labels=labels, colors=colors_plot2, autopct='%1.1f%%')\n",
    "    axs[0, 1].add_artist(center_circle)\n",
    "    format_spines(axs[0, 1], right_border=False)\n",
    "    axs[0, 1].set_title(f'{country_name} Terrorism Suicide Rate')\n",
    "    axs[0, 0].set_ylabel('Victims')\n",
    "    \n",
    "    # Plot 3 - Victims through the years\n",
    "    sns.lineplot(x='iyear', y='nkill', data=country_year, ax=axs[1, 0], color=color_lineplot)\n",
    "    format_spines(axs[1, 0], right_border=False)\n",
    "    axs[1, 0].set_xlim([1970, 2017])\n",
    "    axs[1, 0].set_title(f'{country_name} Number of Victims Over Time')\n",
    "    axs[1, 0].set_ylabel('Victims')\n",
    "    \n",
    "    # Plot 4 - Terrorism Weapons\n",
    "    sns.barplot(x='weaptype1_txt', y='eventid', data=country_weapon, ci=None, palette=palette, ax=axs[1, 1])\n",
    "    axs[1, 1].set_xticklabels(axs[1, 1].get_xticklabels(), rotation=90)\n",
    "    axs[1, 1].set_xlabel('')\n",
    "    axs[1, 1].set_ylabel('Count')\n",
    "    format_spines(axs[1, 1], right_border=False)\n",
    "    axs[1, 1].set_title(f'{country_name} Weapons Used in Attacks')\n",
    "    \n",
    "    plt.suptitle(f'Terrorism Analysis in {country_name} between 1970 and 2017', size=16)    \n",
    "    plt.tight_layout()\n",
    "    plt.subplots_adjust(top=0.90)\n",
    "    plt.show()"
   ]
  },
  {
   "cell_type": "code",
   "execution_count": null,
   "metadata": {},
   "outputs": [],
   "source": [
    "fig, ax = plt.subplots(figsize=(12, 6))\n",
    "count_plot('region_txt', data_ter, ax=ax, colors='rainbow_r')\n",
    "ax.set_xticklabels(ax.get_xticklabels(), rotation=90)\n",
    "ax.set_title('Distribution of Attacks per Region (1970-2017)', size=15)\n",
    "plt.show()"
   ]
  },
  {
   "cell_type": "code",
   "execution_count": null,
   "metadata": {
    "ExecuteTime": {
     "end_time": "2019-07-10T00:22:19.170812Z",
     "start_time": "2019-07-10T00:22:18.614595Z"
    },
    "_kg_hide-input": true
   },
   "outputs": [],
   "source": [
    "country_victims = data_map.groupby(by='country_txt', as_index=False).sum().sort_values(by='nkill',ascending=False).loc[:, ['country_txt', 'nkill']]\n",
    "country_victims = country_victims.iloc[:10, :]\n",
    "\n",
    "terr_data_2017 = data_map.query('iyear == 2017')\n",
    "country_victims_2017 = terr_data_2017.groupby(by='country_txt', as_index=False).sum().sort_values(by='nkill', ascending=False).loc[:, ['country_txt','nkill']]\n",
    "country_victims_2017 = country_victims_2017.iloc[:10, :]\n",
    "country_victims_2017['country_txt'][16] = 'Central African Rep.'\n",
    "country_victims_2017['country_txt'][22] = 'Dem. Rep. Congo'\n",
    "\n",
    "fig, axs = plt.subplots(nrows=1, ncols=2, figsize=(15, 7))\n",
    "\n",
    "sns.barplot(x='nkill', y='country_txt', data=country_victims, ci=None,\n",
    "                 palette='twilight', ax=axs[0])\n",
    "sns.barplot(x='nkill', y='country_txt', data=country_victims_2017, ci=None,\n",
    "                 palette='twilight_r', ax=axs[1])\n",
    "\n",
    "format_spines(axs[0], right_border=False)\n",
    "format_spines(axs[1], right_border=False)\n",
    "axs[0].set_title('Top 10 - Total Victims by Country (1970-2017)')\n",
    "axs[1].set_title('Top 10 - Total Victims by Country (2017)')\n",
    "axs[0].set_ylabel('')\n",
    "axs[1].set_ylabel('')\n",
    "\n",
    "for p in axs[0].patches:\n",
    "    width = p.get_width()\n",
    "    axs[0].text(width-4000, p.get_y() + p.get_height() / 2. + 0.10, '{}'.format(int(width)), \n",
    "            ha=\"center\", color='white')\n",
    "\n",
    "for p in axs[1].patches:\n",
    "    width = p.get_width()\n",
    "    axs[1].text(width-300, p.get_y() + p.get_height() / 2. + 0.10, '{}'.format(int(width)), \n",
    "            ha=\"center\", color='white')\n",
    "\n",
    "plt.show()"
   ]
  },
  {
   "cell_type": "markdown",
   "metadata": {},
   "source": [
    "With the grap above we can see that Iraq and Afghanistan are the countries with most terrorism occurences in 2017 (and also in all period). Colombia, Peru and El Salvador appear in historica data but don't appear in 2017 data maybe because of past conflicts. Let's make a more specific analysis in some countries to see more details."
   ]
  },
  {
   "cell_type": "code",
   "execution_count": null,
   "metadata": {
    "ExecuteTime": {
     "end_time": "2019-07-10T00:27:17.919036Z",
     "start_time": "2019-07-10T00:27:17.267924Z"
    },
    "_kg_hide-input": true
   },
   "outputs": [],
   "source": [
    "country_analysis(country_name='Iraq', data=data_map, palette='Wistia_r', \n",
    "                 colors_plot2=['cyan', 'orange'], color_lineplot='cyan')"
   ]
  },
  {
   "cell_type": "code",
   "execution_count": null,
   "metadata": {
    "ExecuteTime": {
     "end_time": "2019-07-10T00:27:22.643256Z",
     "start_time": "2019-07-10T00:27:22.096412Z"
    },
    "_kg_hide-input": true
   },
   "outputs": [],
   "source": [
    "country_analysis(country_name='United States', data=data_map, palette='ocean', \n",
    "                 colors_plot2=['black', 'navy'], color_lineplot='navy')"
   ]
  },
  {
   "cell_type": "code",
   "execution_count": null,
   "metadata": {
    "ExecuteTime": {
     "end_time": "2019-07-10T00:27:28.647123Z",
     "start_time": "2019-07-10T00:27:28.155317Z"
    },
    "_kg_hide-input": true
   },
   "outputs": [],
   "source": [
    "country_analysis(country_name='Nigeria', data=data_map, palette='mako', \n",
    "                 colors_plot2=['aquamarine', 'indigo'], color_lineplot='indigo')"
   ]
  },
  {
   "cell_type": "code",
   "execution_count": null,
   "metadata": {
    "ExecuteTime": {
     "end_time": "2019-07-10T00:27:33.744965Z",
     "start_time": "2019-07-10T00:27:33.239635Z"
    },
    "_kg_hide-input": true
   },
   "outputs": [],
   "source": [
    "country_analysis(country_name='Colombia', data=data_map, palette='hot', \n",
    "                 colors_plot2=['crimson', 'gold'], color_lineplot='brown')"
   ]
  },
  {
   "cell_type": "code",
   "execution_count": null,
   "metadata": {
    "ExecuteTime": {
     "end_time": "2019-07-10T00:27:37.117033Z",
     "start_time": "2019-07-10T00:27:36.537093Z"
    },
    "_kg_hide-input": true
   },
   "outputs": [],
   "source": [
    "country_analysis(country_name='Egypt', data=data_map, palette='Pastel1',\n",
    "                 colors_plot2=['lavender', 'pink'], color_lineplot='pink')"
   ]
  },
  {
   "cell_type": "code",
   "execution_count": null,
   "metadata": {},
   "outputs": [],
   "source": [
    "heat_data = data_map.groupby(by=['latitude', 'longitude'], \n",
    "                                 as_index=False).count().sort_values(by='eventid', ascending=False).iloc[:, :3]\n",
    "\n",
    "m = folium.Map(\n",
    "    location=[33.312805, 44.361488], \n",
    "    zoom_start=2.5, \n",
    "    tiles='Stamen Toner'\n",
    ")\n",
    "\n",
    "HeatMap(\n",
    "    name='Mapa de Calor',\n",
    "    data=heat_data,\n",
    "    radius=10,\n",
    "    max_zoom=13\n",
    ").add_to(m)\n",
    "\n",
    "Fullscreen(\n",
    "    position='topright',\n",
    "    title='Expand me',\n",
    "    title_cancel='Exit me',\n",
    "    force_separate_button=True\n",
    ").add_to(m)\n",
    "\n",
    "m.save('terrorism_density.html')\n",
    "m"
   ]
  },
  {
   "cell_type": "code",
   "execution_count": null,
   "metadata": {},
   "outputs": [],
   "source": [
    "year_list = []\n",
    "for year in data_map['iyear'].sort_values().unique():\n",
    "    data = data_map.query('iyear == @year')\n",
    "    data = data_map.groupby(by=['latitude', 'longitude'], \n",
    "                        as_index=False).count().sort_values(by='eventid', ascending=False).iloc[:, :3]\n",
    "    year_list.append(data.values.tolist())\n",
    "\n",
    "m = folium.Map(\n",
    "    location=[0, 0], \n",
    "    zoom_start=2.0, \n",
    "    tiles='Stamen Toner'\n",
    ")\n",
    "\n",
    "HeatMapWithTime(\n",
    "    name='Terrorism Heatmap',\n",
    "    data=year_list,\n",
    "    radius=9,\n",
    "    index=list(data_map['iyear'].sort_values().unique())\n",
    ").add_to(m)\n",
    "\n",
    "m"
   ]
  },
  {
   "cell_type": "code",
   "execution_count": null,
   "metadata": {},
   "outputs": [],
   "source": [
    "month_index = [\n",
    "    'jan/2017',\n",
    "    'feb/2017',\n",
    "    'mar/2017',\n",
    "    'apr/2017',\n",
    "    'may/2017',\n",
    "    'jun/2017',\n",
    "    'jul/2017',\n",
    "    'aug/2017',\n",
    "    'sep/2017',\n",
    "    'oct/2017',\n",
    "    'nov/2017',\n",
    "    'dec/2017'\n",
    "]\n",
    "\n",
    "month_list = []\n",
    "for month in data_map.query('iyear==2017')['imonth'].sort_values().unique():\n",
    "    data = data_map.query('imonth == @month')\n",
    "    data = data_map.groupby(by=['latitude', 'longitude'], \n",
    "                        as_index=False).sum().sort_values(by='imonth', \n",
    "                                                          ascending=True).loc[:, ['latitude', \n",
    "                                                                                   'longitude', \n",
    "                                                                                   'nkill']]\n",
    "    month_list.append(data.values.tolist())\n",
    "\n",
    "m = folium.Map(\n",
    "    location=[0, 0], \n",
    "    zoom_start=1.5, \n",
    "    tiles='Stamen Toner'\n",
    ")\n",
    "\n",
    "HeatMapWithTime(\n",
    "    name='Mapa de Calor',\n",
    "    data=month_list,\n",
    "    radius=4,\n",
    "    index=month_index\n",
    ").add_to(m)\n",
    "\n",
    "m"
   ]
  },
  {
   "cell_type": "markdown",
   "metadata": {},
   "source": [
    "The most recent data we have is from 2017. Let's plot a global heatmap to see incidents among the months of 2017. Using the selection bar in the bottom, we can see the concentration of terrorism from january to december of 2017."
   ]
  },
  {
   "cell_type": "markdown",
   "metadata": {},
   "source": [
    "# Conclusion: Terrorism Around the World"
   ]
  },
  {
   "cell_type": "markdown",
   "metadata": {},
   "source": [
    "Well, here we can see clearly that Iraq is the country with the highest number of incidents recorded. The map also shows tooltips with the name of the country, number of incidents and total of victims recorded. Another thing that can be said looking at the map is that the Middle East and South Asia are the regions with the highes number of recorded attacks between 1970 and 2017.\n",
    "**Details:\n",
    "<br>-Country with the highest number of Terrorist Attacks: **Iraq**  \n",
    "<br>-Regions with the highest number of  Terrorist Attacks: **Middle East & North Africa**  \n",
    "<br>-Maximum number of people were killed by a single terrorist attack are **1570 people** that took place in Iraq  \n",
    "<br>-Year with the most Attacks: **2014**  \n",
    "<br>-Month with the most Attacks: **5**  \n",
    "<br>-Group with the most Attacks: **Taliban**  \n",
    "<br>-Most Attacks Types: **Bombing/Explosion** "
   ]
  }
 ],
 "metadata": {
  "kernelspec": {
   "display_name": "Python 3",
   "language": "python",
   "name": "python3"
  },
  "language_info": {
   "codemirror_mode": {
    "name": "ipython",
    "version": 3
   },
   "file_extension": ".py",
   "mimetype": "text/x-python",
   "name": "python",
   "nbconvert_exporter": "python",
   "pygments_lexer": "ipython3",
   "version": "3.8.8"
  }
 },
 "nbformat": 4,
 "nbformat_minor": 1
}
